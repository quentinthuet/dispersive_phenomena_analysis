{
 "cells": [
  {
   "cell_type": "markdown",
   "metadata": {},
   "source": [
    "## Approximation des modes propres de l'équation de Schrödinger unidimensionnel"
   ]
  },
  {
   "cell_type": "code",
   "execution_count": 2,
   "metadata": {},
   "outputs": [],
   "source": [
    "import numpy as np\n",
    "import pandas as pd\n",
    "import matplotlib.pyplot as plt"
   ]
  },
  {
   "cell_type": "markdown",
   "metadata": {},
   "source": [
    "### Modes propres du Laplacien\n",
    "\n",
    "#### 1.\n",
    "\n",
    "Soit le problème suivant : \n",
    "$$\n",
    "\\left\\{\n",
    "    \\begin{eqnarray}\n",
    "        -u''(x)&=&Eu(x)&&\\\\\n",
    "        u(-R)&=&u(R)&=&0\n",
    "    \\end{eqnarray}\n",
    "\\right.\n",
    "$$\n",
    "\n",
    "On cherche une solution de la forme :\n",
    "$$\n",
    "\\begin{eqnarray}\n",
    "    u(x)=a\\cos(\\omega x) + b\\sin(\\omega x)\n",
    "\\end{eqnarray}\n",
    "$$\n",
    "\n",
    "On y intègre les conditions aux limites :\n",
    "$$\n",
    "\\left\\{\n",
    "    \\begin{eqnarray}\n",
    "        u(-R)&=&a\\cos(-\\omega R) + b\\sin(-\\omega R)&=&0\\\\\n",
    "        u(R)&=&a\\cos(\\omega R) + b\\sin(\\omega R)&=&0\n",
    "    \\end{eqnarray}\n",
    "\\right.\\\\\n",
    "$$\n",
    "$$\n",
    "\\Leftrightarrow\\left\\{\n",
    "    \\begin{eqnarray}\n",
    "        a\\cos(\\omega R) - b\\sin(\\omega R)&=&0\\\\\n",
    "        a\\cos(\\omega R) + b\\sin(\\omega R)&=&0\n",
    "    \\end{eqnarray}\n",
    "\\right.\\\\\n",
    "$$\n",
    "$$\n",
    "\\Leftrightarrow\\left\\{\n",
    "    \\begin{eqnarray}\n",
    "        a\\cos(\\omega R) &=&0\\\\\n",
    "        b\\sin(\\omega R) &=&0\n",
    "    \\end{eqnarray}\n",
    "\\right.\n",
    "$$\n",
    "\n",
    "On peut donc différencier les cas : \n",
    "* $a=0$\n",
    "    * $b=0$      \n",
    "        $$u(x)=0$$\n",
    "        \n",
    "    * $b\\neq 0$\n",
    "        $$\n",
    "            b\\neq 0 \\Rightarrow \\sin(\\omega R)=0 \\Rightarrow \\omega R = k\\pi, k\\in \\mathbb{N} \\Rightarrow u(x)=b\\sin\\left(\\frac{k\\pi}{R}x\\right)=b\\sin\\left(\\frac{k'\\pi}{2R}x\\right), k\\in \\mathbb{N}, k'\\in \\mathbb{N} \\text{ pair}\n",
    "        $$\n",
    "        \n",
    "* $a\\neq 0$\n",
    "    $$\n",
    "        a\\neq 0 \\Rightarrow \\cos(\\omega R)=0 \\Rightarrow \\sin(\\omega R)\\neq 0 \\Rightarrow b=0\\\\\n",
    "        \\cos(\\omega R)=0 \\Rightarrow \\omega R = \\frac{\\pi}{2}+k\\pi, k\\in \\mathbb{N} \\Rightarrow u(x)=a\\cos\\left(\\frac{(2k+1)k\\pi}{2R}x\\right)=a\\cos\\left(\\frac{k'\\pi}{2R}x\\right), k\\in \\mathbb{N}, k'\\in \\mathbb{N} \\text{ impair}\n",
    "    $$\n",
    "\n",
    "Déterminons $a$ et $b$ :\n",
    "\n",
    "\n",
    "On peut maintenant en déduire $u_{k'}$ pour tout $k'\\in \\mathbb{N}$. On a :\n",
    "$$\n",
    "\\left\\{\n",
    "    \\begin{eqnarray}\n",
    "        u_{k'}(x)&=&a\\cos\\left(\\frac{k'\\pi}{2R}x\\right),&k'\\in \\mathbb{N} \\text{ impair}\\\\\n",
    "        u_{k'}(x)&=&b\\sin\\left(\\frac{k'\\pi}{2R}x\\right),&k'\\in \\mathbb{N} \\text{ pair}\n",
    "    \\end{eqnarray}\n",
    "\\right.\\\\\n",
    "$$\n",
    "$$\n",
    "\\Leftrightarrow\\left\\{\n",
    "    \\begin{eqnarray}\n",
    "        u_{k'}(x)&=&a\\sin\\left(\\frac{k'\\pi}{2R}x\\right),&k'\\in \\mathbb{N} \\text{ impair}\\\\\n",
    "        u_{k'}(x)&=&b\\sin\\left(\\frac{k'\\pi}{2R}x\\right),&k'\\in \\mathbb{N} \\text{ pair}\n",
    "    \\end{eqnarray}\n",
    "\\right.\\\\\n",
    "$$\n",
    "\n",
    "\n",
    "#### 2.\n",
    "\n",
    "TODO\n",
    "\n",
    "#### 3.\n",
    "\n",
    "TODO\n",
    "\n",
    "#### 4.\n",
    "\n",
    "TODO"
   ]
  },
  {
   "cell_type": "code",
   "execution_count": 3,
   "metadata": {},
   "outputs": [
    {
     "data": {
      "text/plain": [
       "array([ 0.23053002,  0.38786839,  0.42206128,  0.3222527 ,  0.12013117,\n",
       "       -0.12013117, -0.3222527 , -0.42206128, -0.38786839, -0.23053002])"
      ]
     },
     "execution_count": 3,
     "metadata": {},
     "output_type": "execute_result"
    }
   ],
   "source": [
    "N = 10\n",
    "R = 1\n",
    "h = 2*R/(N+1)\n",
    "\n",
    "x = np.linspace(-R+h,R-h,N)\n",
    "\n",
    "A = 1/h**2 * (np.diag(np.repeat(2,N)) - np.diag(np.repeat(1,N-1),k=-1) - np.diag(np.repeat(1,N-1),k=1))\n",
    "\n",
    "lbd, vec = np.linalg.eig(A)\n",
    "lbd = np.sort(lbd)\n",
    "vec = vec[:,np.argsort(lbd)]\n",
    "\n",
    "k = 2\n",
    "vk = vec[:,k-1]\n",
    "uk = 1/np.sqrt(R)*np.sin(k*np.pi*(x+R)/2/R)\n",
    "\n",
    "uk/np.linalg.norm(uk)"
   ]
  },
  {
   "cell_type": "code",
   "execution_count": 4,
   "metadata": {},
   "outputs": [
    {
     "data": {
      "text/plain": [
       "array([ 0.23053002, -0.38786839,  0.42206128, -0.3222527 ,  0.12013117,\n",
       "        0.12013117, -0.3222527 ,  0.42206128, -0.38786839,  0.23053002])"
      ]
     },
     "execution_count": 4,
     "metadata": {},
     "output_type": "execute_result"
    }
   ],
   "source": [
    "vk"
   ]
  },
  {
   "cell_type": "code",
   "execution_count": 5,
   "metadata": {},
   "outputs": [
    {
     "name": "stdout",
     "output_type": "stream",
     "text": [
      "[-3.58046925e-15 -7.75736772e-01 -1.77635684e-15 -6.44505403e-01\n",
      "  2.49800181e-16  2.40262332e-01 -1.49880108e-15  8.44122562e-01\n",
      " -2.44249065e-15  4.61060038e-01]\n"
     ]
    }
   ],
   "source": [
    "print(vk-uk/np.linalg.norm(uk))"
   ]
  },
  {
   "cell_type": "markdown",
   "metadata": {},
   "source": [
    "#### 5."
   ]
  },
  {
   "cell_type": "code",
   "execution_count": 6,
   "metadata": {},
   "outputs": [
    {
     "name": "stdout",
     "output_type": "stream",
     "text": [
      "[1.67260039e-02 2.65443137e-01 1.32568431e+00 4.11102589e+00\n",
      " 9.79507522e+00 1.97163919e+01 3.52700456e+01 5.77945960e+01\n",
      " 8.84636504e+01 1.28190785e+02]\n"
     ]
    }
   ],
   "source": [
    "k_vec = np.linspace(1,N,N)\n",
    "E = k_vec**2*np.pi**2/4/R**2\n",
    "\n",
    "erreur_approx = np.abs(E-lbd)\n",
    "print(erreur_approx)"
   ]
  },
  {
   "cell_type": "code",
   "execution_count": 7,
   "metadata": {},
   "outputs": [
    {
     "data": {
      "image/png": "[encoded data removed]",
      "text/plain": [
       "<Figure size 432x288 with 1 Axes>"
      ]
     },
     "metadata": {
      "needs_background": "light"
     },
     "output_type": "display_data"
    }
   ],
   "source": [
    "alpha = 4\n",
    "C = 180\n",
    "\n",
    "plt.plot(np.log(E-lbd),alpha*np.log(k_vec/(N+1))+np.log(C))\n",
    "plt.grid()"
   ]
  },
  {
   "cell_type": "markdown",
   "metadata": {},
   "source": [
    "TODO"
   ]
  },
  {
   "cell_type": "markdown",
   "metadata": {},
   "source": [
    "### Modes propres de l'opérateur de Schödinger"
   ]
  },
  {
   "cell_type": "code",
   "execution_count": 8,
   "metadata": {},
   "outputs": [
    {
     "ename": "ValueError",
     "evalue": "",
     "output_type": "error",
     "traceback": [
      "\u001b[0;31m---------------------------------------------------------------------------\u001b[0m",
      "\u001b[0;31mValueError\u001b[0m                                Traceback (most recent call last)",
      "\u001b[0;32m<ipython-input-8-fe86149b1338>\u001b[0m in \u001b[0;36m<module>\u001b[0;34m\u001b[0m\n\u001b[1;32m      4\u001b[0m \u001b[0;34m\u001b[0m\u001b[0m\n\u001b[1;32m      5\u001b[0m     \u001b[0;32mreturn\u001b[0m \u001b[0;34m(\u001b[0m\u001b[0mnp\u001b[0m\u001b[0;34m.\u001b[0m\u001b[0mabs\u001b[0m\u001b[0;34m(\u001b[0m\u001b[0mx\u001b[0m\u001b[0;34m)\u001b[0m \u001b[0;34m>\u001b[0m \u001b[0ma\u001b[0m\u001b[0;34m)\u001b[0m \u001b[0;34m*\u001b[0m \u001b[0mV0\u001b[0m\u001b[0;34m\u001b[0m\u001b[0;34m\u001b[0m\u001b[0m\n\u001b[0;32m----> 6\u001b[0;31m \u001b[0mV\u001b[0m\u001b[0;34m(\u001b[0m\u001b[0;36m0.6\u001b[0m\u001b[0;34m,\u001b[0m\u001b[0ma\u001b[0m\u001b[0;34m=\u001b[0m\u001b[0;36m100\u001b[0m\u001b[0;34m)\u001b[0m\u001b[0;34m\u001b[0m\u001b[0;34m\u001b[0m\u001b[0m\n\u001b[0m",
      "\u001b[0;32m<ipython-input-8-fe86149b1338>\u001b[0m in \u001b[0;36mV\u001b[0;34m(x, V0, a)\u001b[0m\n\u001b[1;32m      1\u001b[0m \u001b[0;32mdef\u001b[0m \u001b[0mV\u001b[0m\u001b[0;34m(\u001b[0m\u001b[0mx\u001b[0m\u001b[0;34m,\u001b[0m\u001b[0mV0\u001b[0m\u001b[0;34m=\u001b[0m\u001b[0;36m1.\u001b[0m\u001b[0;34m,\u001b[0m\u001b[0ma\u001b[0m\u001b[0;34m=\u001b[0m\u001b[0mR\u001b[0m\u001b[0;34m/\u001b[0m\u001b[0;36m2\u001b[0m\u001b[0;34m)\u001b[0m\u001b[0;34m:\u001b[0m\u001b[0;34m\u001b[0m\u001b[0;34m\u001b[0m\u001b[0m\n\u001b[1;32m      2\u001b[0m     \u001b[0;32mif\u001b[0m \u001b[0;34m(\u001b[0m\u001b[0ma\u001b[0m \u001b[0;34m<\u001b[0m \u001b[0;36m0\u001b[0m\u001b[0;34m)\u001b[0m \u001b[0;32mor\u001b[0m \u001b[0;34m(\u001b[0m\u001b[0ma\u001b[0m \u001b[0;34m>\u001b[0m \u001b[0mR\u001b[0m\u001b[0;34m)\u001b[0m \u001b[0;32mor\u001b[0m \u001b[0;34m(\u001b[0m\u001b[0mV0\u001b[0m \u001b[0;34m<\u001b[0m \u001b[0;36m0\u001b[0m\u001b[0;34m)\u001b[0m\u001b[0;34m:\u001b[0m\u001b[0;34m\u001b[0m\u001b[0;34m\u001b[0m\u001b[0m\n\u001b[0;32m----> 3\u001b[0;31m         \u001b[0;32mraise\u001b[0m \u001b[0mValueError\u001b[0m\u001b[0;34m\u001b[0m\u001b[0;34m\u001b[0m\u001b[0m\n\u001b[0m\u001b[1;32m      4\u001b[0m \u001b[0;34m\u001b[0m\u001b[0m\n\u001b[1;32m      5\u001b[0m     \u001b[0;32mreturn\u001b[0m \u001b[0;34m(\u001b[0m\u001b[0mnp\u001b[0m\u001b[0;34m.\u001b[0m\u001b[0mabs\u001b[0m\u001b[0;34m(\u001b[0m\u001b[0mx\u001b[0m\u001b[0;34m)\u001b[0m \u001b[0;34m>\u001b[0m \u001b[0ma\u001b[0m\u001b[0;34m)\u001b[0m \u001b[0;34m*\u001b[0m \u001b[0mV0\u001b[0m\u001b[0;34m\u001b[0m\u001b[0;34m\u001b[0m\u001b[0m\n",
      "\u001b[0;31mValueError\u001b[0m: "
     ]
    }
   ],
   "source": [
    "def V(x,V0=1.,a=R/2):\n",
    "    if (a < 0) or (a > R) or (V0 < 0):\n",
    "        raise ValueError\n",
    "        \n",
    "    return (np.abs(x) > a) * V0\n",
    "V(0.6,a=100)"
   ]
  }
 ],
 "metadata": {
  "kernelspec": {
   "display_name": "Python 3",
   "language": "python",
   "name": "python3"
  },
  "language_info": {
   "codemirror_mode": {
    "name": "ipython",
    "version": 3
   },
   "file_extension": ".py",
   "mimetype": "text/x-python",
   "name": "python",
   "nbconvert_exporter": "python",
   "pygments_lexer": "ipython3",
   "version": "3.6.9"
  }
 },
 "nbformat": 4,
 "nbformat_minor": 2
}
