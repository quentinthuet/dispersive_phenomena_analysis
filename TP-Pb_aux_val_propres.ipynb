{
 "cells": [
  {
   "cell_type": "markdown",
   "metadata": {},
   "source": [
    "## Approximation des modes propres de l'équation de Schrödinger unidimensionnel"
   ]
  },
  {
   "cell_type": "code",
   "execution_count": 71,
   "metadata": {},
   "outputs": [],
   "source": [
    "import numpy as np\n",
    "import pandas as pd\n",
    "import matplotlib.pyplot as plt\n",
    "import scipy as sp\n",
    "import numpy.linalg as npl \n",
    "import scipy.linalg as spl\n",
    "import scipy.sparse.linalg as sspl"
   ]
  },
  {
   "cell_type": "markdown",
   "metadata": {},
   "source": [
    "### Modes propres du Laplacien\n",
    "\n",
    "#### 1.\n",
    "\n",
    "Soit le problème suivant : \n",
    "$$\n",
    "\\left\\{\n",
    "    \\begin{eqnarray}\n",
    "        -u''(x)&=&Eu(x)&&\\\\\n",
    "        u(-R)&=&u(R)&=&0\n",
    "    \\end{eqnarray}\n",
    "\\right.\n",
    "$$\n",
    "\n",
    "On cherche une solution de la forme :\n",
    "$$\n",
    "\\begin{eqnarray}\n",
    "    u(x)=a\\cos(\\omega x) + b\\sin(\\omega x)\n",
    "\\end{eqnarray}\n",
    "$$\n",
    "\n",
    "On y intègre les conditions aux limites :\n",
    "$$\n",
    "\\left\\{\n",
    "    \\begin{eqnarray}\n",
    "        u(-R)&=&a\\cos(-\\omega R) + b\\sin(-\\omega R)&=&0\\\\\n",
    "        u(R)&=&a\\cos(\\omega R) + b\\sin(\\omega R)&=&0\n",
    "    \\end{eqnarray}\n",
    "\\right.\\\\\n",
    "$$\n",
    "$$\n",
    "\\Leftrightarrow\\left\\{\n",
    "    \\begin{eqnarray}\n",
    "        a\\cos(\\omega R) - b\\sin(\\omega R)&=&0\\\\\n",
    "        a\\cos(\\omega R) + b\\sin(\\omega R)&=&0\n",
    "    \\end{eqnarray}\n",
    "\\right.\\\\\n",
    "$$\n",
    "$$\n",
    "\\Leftrightarrow\\left\\{\n",
    "    \\begin{eqnarray}\n",
    "        a\\cos(\\omega R) &=&0\\\\\n",
    "        b\\sin(\\omega R) &=&0\n",
    "    \\end{eqnarray}\n",
    "\\right.\n",
    "$$\n",
    "\n",
    "On peut donc différencier les cas : \n",
    "* $a=0$\n",
    "    * $b=0$      \n",
    "        $$u(x)=0$$\n",
    "        \n",
    "    * $b\\neq 0$\n",
    "        $$\n",
    "            b\\neq 0 \\Rightarrow \\sin(\\omega R)=0 \\Rightarrow \\omega R = k\\pi, k\\in \\mathbb{N} \\Rightarrow u(x)=b\\sin\\left(\\frac{k\\pi}{R}x\\right)=b\\sin\\left(\\frac{k'\\pi}{2R}x\\right), k\\in \\mathbb{N}, k'\\in \\mathbb{N} \\text{ pair}   \n",
    "        $$\n",
    "        \n",
    "* $a\\neq 0$\n",
    "    $$\n",
    "        a\\neq 0 \\Rightarrow \\cos(\\omega R)=0 \\Rightarrow \\sin(\\omega R)\\neq 0 \\Rightarrow b=0\\\\\n",
    "        \\cos(\\omega R)=0 \\Rightarrow \\omega R = \\frac{\\pi}{2}+k\\pi, k\\in \\mathbb{N} \\Rightarrow u(x)=a\\cos\\left(\\frac{(2k+1)k\\pi}{2R}x\\right)=a\\cos\\left(\\frac{k'\\pi}{2R}x\\right), k\\in \\mathbb{N}, k'\\in \\mathbb{N} \\text{ impair}\n",
    "    $$\n",
    "\n",
    "Déterminons $a$ et $b$ :\n",
    "\n",
    "\n",
    "On peut maintenant en déduire $u_{k'}$ pour tout $k'\\in \\mathbb{N}$. On a :\n",
    "$$\n",
    "\\left\\{\n",
    "    \\begin{eqnarray}\n",
    "        u_{k'}(x)&=&a\\cos\\left(\\frac{k'\\pi}{2R}x\\right),&k'\\in \\mathbb{N} \\text{ impair}\\\\\n",
    "        u_{k'}(x)&=&b\\sin\\left(\\frac{k'\\pi}{2R}x\\right),&k'\\in \\mathbb{N} \\text{ pair}\n",
    "    \\end{eqnarray}\n",
    "\\right.\\\\\n",
    "$$\n",
    "$$\n",
    "\\Leftrightarrow\\left\\{\n",
    "    \\begin{eqnarray}\n",
    "        u_{k'}(x)&=&a\\sin\\left(\\frac{k'\\pi}{2R}x\\right),&k'\\in \\mathbb{N} \\text{ impair}\\\\\n",
    "        u_{k'}(x)&=&b\\sin\\left(\\frac{k'\\pi}{2R}x\\right),&k'\\in \\mathbb{N} \\text{ pair}\n",
    "    \\end{eqnarray}\n",
    "\\right.\\\\\n",
    "$$\n",
    "\n",
    "#### 2.\n",
    "\n",
    "On pose $u_0=u_{N+1}=\\alpha$ et on a :\n",
    "$$\n",
    "\\frac{-1}{h^2}u_{i-1} + \\frac{2}{h^2}u_{i} + \\frac{-1}{h^2}u_{i+1} = Eu_i, i=1..N\n",
    "$$\n",
    "\n",
    "On peut donc réécrire le système sous la forme :\n",
    "\n",
    "$$\n",
    "\\begin{bmatrix} \n",
    "    1 & 0 & \\dots & \\dots & \\dots & 0\\\\\n",
    "    \\frac{-1}{h^2} & \\frac{2}{h^2} &\\frac{-1}{h^2} & 0 & \\dots & 0\\\\\n",
    "    0 & \\ddots & \\ddots & \\ddots & \\ddots & \\vdots\\\\\n",
    "    \\vdots & \\ddots & \\ddots & \\ddots & \\ddots & 0\\\\\n",
    "    0 & \\dots & 0 & \\frac{-1}{h^2} & \\frac{2}{h^2} &\\frac{-1}{h^2}\\\\\n",
    "    0 & \\dots & \\dots & \\dots & 0 & 1 \n",
    "\\end{bmatrix}\n",
    "\\begin{bmatrix}\n",
    "    u_0\\\\\n",
    "    u_1\\\\\n",
    "    \\vdots\\\\\n",
    "    \\vdots\\\\\n",
    "    u_N\\\\\n",
    "    u_{N+1}\n",
    "\\end{bmatrix}\n",
    "=\n",
    "\\begin{bmatrix}\n",
    "    \\alpha\\\\\n",
    "    Eu_1\\\\\n",
    "    \\vdots\\\\\n",
    "    \\vdots\\\\\n",
    "    Eu_N\\\\\n",
    "    \\alpha\n",
    "\\end{bmatrix}\n",
    "$$\n",
    "\n",
    "$$\n",
    "=\n",
    "\\begin{bmatrix} \n",
    "    \\alpha & 0 & \\dots & \\dots & 0\\\\\n",
    "    0 & 0 & \\ddots & \\ddots & \\vdots\\\\\n",
    "    \\vdots & \\ddots & \\ddots & \\ddots & \\vdots\\\\\n",
    "    \\vdots & \\ddots & \\ddots & 0 & 0 \\\\\n",
    "    0 & \\dots & \\dots & 0 & \\alpha\n",
    "\\end{bmatrix}\n",
    "+E\n",
    "\\begin{bmatrix} \n",
    "    0 & 0 & \\dots & \\dots & 0\\\\\n",
    "    0 & 1 & \\ddots &  \\ddots & \\vdots\\\\\n",
    "    \\vdots & \\ddots & \\ddots & \\ddots & \\vdots\\\\\n",
    "    \\vdots & \\ddots &  \\ddots & 1 & 0 \\\\\n",
    "    0 & \\dots & \\dots & 0 & 0\n",
    "\\end{bmatrix}\n",
    "$$\n",
    "\n",
    "D'où, pour $\\alpha=0$, BU=EDU avec :\n",
    "$$\n",
    "B=\n",
    "\\begin{bmatrix} \n",
    "    1 & 0 & \\dots & \\dots & \\dots & 0\\\\\n",
    "    \\frac{-1}{h^2} & \\frac{2}{h^2} &\\frac{-1}{h^2} & 0 & \\dots & 0\\\\\n",
    "    0 & \\ddots & \\ddots & \\ddots & \\ddots & \\vdots\\\\\n",
    "    \\vdots & \\ddots & \\ddots & \\ddots & \\ddots & 0\\\\\n",
    "    0 & \\dots & 0 & \\frac{-1}{h^2} & \\frac{2}{h^2} &\\frac{-1}{h^2}\\\\\n",
    "    0 & \\dots & \\dots & \\dots & 0 & 1 \n",
    "\\end{bmatrix}\n",
    "$$\n",
    "$$\n",
    "U=\n",
    "\\begin{bmatrix}\n",
    "    u_0\\\\\n",
    "    u_1\\\\\n",
    "    \\vdots\\\\\n",
    "    \\vdots\\\\\n",
    "    u_N\\\\\n",
    "    u_{N+1}\n",
    "\\end{bmatrix}\n",
    "$$\n",
    "$$\n",
    "D=\n",
    "\\begin{bmatrix} \n",
    "    0 & 0 & \\dots & \\dots & 0\\\\\n",
    "    0 & 1 & \\ddots &  \\ddots & \\vdots\\\\\n",
    "    \\vdots & \\ddots & \\ddots & \\ddots & \\vdots\\\\\n",
    "    \\vdots & \\ddots &  \\ddots & 1 & 0 \\\\\n",
    "    0 & \\dots & \\dots & 0 & 0\n",
    "\\end{bmatrix}\n",
    "$$\n",
    "\n",
    "#### 3.\n",
    "\n",
    "En éliminant la première et la dernière ligne de B, U et D, ainsi que la première et la dernière colonne de B et D, on obtient : \n",
    "\n",
    "$$\n",
    "\\frac{1}{h^2}\n",
    "\\begin{bmatrix} \n",
    "    2 & -1 & 0 & \\dots & 0\\\\\n",
    "    -1 & \\ddots & \\ddots & \\ddots & \\vdots\\\\\n",
    "    0 & \\ddots & \\ddots & \\ddots & 0\\\\\n",
    "    \\vdots & \\ddots & \\ddots & \\ddots & -1\\\\\n",
    "    0 & \\dots & 0 & -1 & 2\n",
    "\\end{bmatrix}\n",
    "\\begin{bmatrix}\n",
    "    u_1\\\\\n",
    "    \\vdots\\\\\n",
    "    \\vdots\\\\\n",
    "    \\vdots\\\\\n",
    "    u_N\\\\\n",
    "\\end{bmatrix}\n",
    "=\n",
    "E\n",
    "\\begin{bmatrix} \n",
    "    1 & 0 & \\dots & 0\\\\\n",
    "    0 & \\ddots & \\ddots & \\vdots\\\\\n",
    "    \\vdots & \\ddots & \\ddots & 0\\\\\n",
    "    0 & \\dots & 0 & 1 \\\\\n",
    "\\end{bmatrix}\n",
    "\\begin{bmatrix}\n",
    "    u_1\\\\\n",
    "    \\vdots\\\\\n",
    "    \\vdots\\\\\n",
    "    u_N\\\\\n",
    "\\end{bmatrix}\n",
    "=\n",
    "E\n",
    "\\begin{bmatrix}\n",
    "    u_1\\\\\n",
    "    \\vdots\\\\\n",
    "    \\vdots\\\\\n",
    "    u_N\\\\\n",
    "\\end{bmatrix}\n",
    "$$\n",
    "\n",
    "#### 4."
   ]
  },
  {
   "cell_type": "code",
   "execution_count": 2,
   "metadata": {},
   "outputs": [
    {
     "data": {
      "text/plain": [
       "array([ 0.23053002,  0.38786839,  0.42206128,  0.3222527 ,  0.12013117,\n",
       "       -0.12013117, -0.3222527 , -0.42206128, -0.38786839, -0.23053002])"
      ]
     },
     "execution_count": 2,
     "metadata": {},
     "output_type": "execute_result"
    }
   ],
   "source": [
    "N = 10\n",
    "R = 1\n",
    "h = 2*R/(N+1)\n",
    "\n",
    "x = np.linspace(-R+h,R-h,N)\n",
    "\n",
    "A = 1/h**2 * (np.diag(np.repeat(2,N)) - np.diag(np.repeat(1,N-1),k=-1) - np.diag(np.repeat(1,N-1),k=1))\n",
    "\n",
    "lbd, vec = np.linalg.eig(A)\n",
    "lbd = np.sort(lbd)\n",
    "vec = vec[:,np.argsort(lbd)]\n",
    "\n",
    "k = 2\n",
    "vk = vec[:,k-1]\n",
    "uk = 1/np.sqrt(R)*np.sin(k*np.pi*(x+R)/2/R)\n",
    "\n",
    "uk/np.linalg.norm(uk)"
   ]
  },
  {
   "cell_type": "code",
   "execution_count": 3,
   "metadata": {},
   "outputs": [
    {
     "data": {
      "text/plain": [
       "array([ 0.23053002, -0.38786839,  0.42206128, -0.3222527 ,  0.12013117,\n",
       "        0.12013117, -0.3222527 ,  0.42206128, -0.38786839,  0.23053002])"
      ]
     },
     "execution_count": 3,
     "metadata": {},
     "output_type": "execute_result"
    }
   ],
   "source": [
    "vk"
   ]
  },
  {
   "cell_type": "code",
   "execution_count": 4,
   "metadata": {},
   "outputs": [
    {
     "name": "stdout",
     "output_type": "stream",
     "text": [
      "[-3.52495810e-15 -7.75736772e-01 -1.66533454e-15 -6.44505403e-01\n",
      "  2.77555756e-16  2.40262332e-01 -1.55431223e-15  8.44122562e-01\n",
      " -2.55351296e-15  4.61060038e-01]\n"
     ]
    }
   ],
   "source": [
    "print(vk-uk/np.linalg.norm(uk))"
   ]
  },
  {
   "cell_type": "markdown",
   "metadata": {},
   "source": [
    "#### 5."
   ]
  },
  {
   "cell_type": "code",
   "execution_count": 11,
   "metadata": {},
   "outputs": [
    {
     "data": {
      "image/png": "[encoded data removed]",
      "text/plain": [
       "<Figure size 864x576 with 1 Axes>"
      ]
     },
     "metadata": {
      "needs_background": "light"
     },
     "output_type": "display_data"
    }
   ],
   "source": [
    "k_vec = np.linspace(1,N,N)\n",
    "E = k_vec**2*np.pi**2/4/R**2\n",
    "\n",
    "erreur_approx = np.abs(E-lbd)\n",
    "plt.figure(figsize=(12,8))\n",
    "plt.plot(k_vec/(N+1),erreur_approx)\n",
    "plt.title('Erreur d\\'approximation')\n",
    "plt.xlabel('k/(N+1)')\n",
    "plt.show()"
   ]
  },
  {
   "cell_type": "markdown",
   "metadata": {},
   "source": [
    "On cherche une relation de la forme $$\\epsilon=\\left|E_k-\\lambda_k\\right|=C+\\frac{k}{N+1}e^\\alpha$$\n",
    "\n",
    "En faisant varier $\\alpha$ et C, on trouve de bonnes valeurs de ces variables :"
   ]
  },
  {
   "cell_type": "code",
   "execution_count": 10,
   "metadata": {},
   "outputs": [
    {
     "data": {
      "image/png": "[encoded data removed]",
      "text/plain": [
       "<Figure size 864x576 with 1 Axes>"
      ]
     },
     "metadata": {
      "needs_background": "light"
     },
     "output_type": "display_data"
    }
   ],
   "source": [
    "alpha = 4\n",
    "C = 180\n",
    "plt.figure(figsize=(12,8))\n",
    "plt.plot(np.log(E-lbd),alpha*np.log(k_vec/(N+1))+np.log(C))\n",
    "plt.grid()"
   ]
  },
  {
   "cell_type": "markdown",
   "metadata": {},
   "source": [
    "En pratique les valeurs propres $(\\lambda_k)_{1\\leq{k} \\leq{N}}$ de $A$ peuvent être calculées :\n",
    "\n",
    "$$\n",
    "    \\lambda_k = \\frac{4}{h^2} \\sin^2\\left(\\frac{k\\pi}{2(N+1)}\\right)\n",
    "$$"
   ]
  },
  {
   "cell_type": "code",
   "execution_count": 121,
   "metadata": {},
   "outputs": [
    {
     "data": {
      "text/plain": [
       "array([  9.80270039,  38.41664505,  83.52370239, 141.46956685,\n",
       "       207.55980914, 276.44019086, 342.53043315, 400.47629761,\n",
       "       445.58335495, 474.19729961])"
      ]
     },
     "execution_count": 121,
     "metadata": {},
     "output_type": "execute_result"
    }
   ],
   "source": [
    "lbd_exact = 4*((N+1)*np.sin(np.arange(1,N+1)*np.pi/(2*(N+1))))**2\n",
    "lbd_exact"
   ]
  },
  {
   "cell_type": "code",
   "execution_count": 122,
   "metadata": {},
   "outputs": [
    {
     "data": {
      "text/plain": [
       "array([  2.4506751 ,   9.60416126,  20.8809256 ,  35.36739171,\n",
       "        51.88995228,  69.11004772,  85.63260829, 100.1190744 ,\n",
       "       111.39583874, 118.5493249 ])"
      ]
     },
     "execution_count": 122,
     "metadata": {},
     "output_type": "execute_result"
    }
   ],
   "source": [
    "lbd"
   ]
  },
  {
   "cell_type": "markdown",
   "metadata": {},
   "source": [
    "Je comprends pas ce qu'il veut qu'on fasse dans cette question ? faire la soustraction de la formule exacte avec nos vp et donner un condition ?\n",
    "\n",
    "Je crois qu'on a un pb sur nos vps ?? en fait je comprends rien ici mdr"
   ]
  },
  {
   "cell_type": "markdown",
   "metadata": {},
   "source": [
    "Définissons $\\epsilon$ la tolérance afin d'établir un critère sur $N$ pour lequel on peut donner les $M$ premières valeurs propre à $\\epsilon$ près."
   ]
  },
  {
   "cell_type": "code",
   "execution_count": 63,
   "metadata": {},
   "outputs": [],
   "source": [
    "espilon = 1e-5\n"
   ]
  },
  {
   "cell_type": "code",
   "execution_count": 119,
   "metadata": {},
   "outputs": [
    {
     "name": "stdout",
     "output_type": "stream",
     "text": [
      "[  -7.41889696  -29.8737389   -67.94289449 -122.53799978 -194.82994578\n",
      " -286.15379979 -397.90036352 -531.40315289 -687.82995618 -868.08775552]\n"
     ]
    }
   ],
   "source": [
    "print(lbd-lbd_exact[:len(lbd)])"
   ]
  },
  {
   "cell_type": "markdown",
   "metadata": {},
   "source": [
    "### Modes propres de l'opérateur de Schödinger"
   ]
  },
  {
   "cell_type": "markdown",
   "metadata": {},
   "source": [
    "#### 1."
   ]
  },
  {
   "cell_type": "code",
   "execution_count": 66,
   "metadata": {},
   "outputs": [
    {
     "ename": "ValueError",
     "evalue": "",
     "output_type": "error",
     "traceback": [
      "\u001b[0;31m---------------------------------------------------------------------------\u001b[0m",
      "\u001b[0;31mValueError\u001b[0m                                Traceback (most recent call last)",
      "\u001b[0;32m<ipython-input-66-fe86149b1338>\u001b[0m in \u001b[0;36m<module>\u001b[0;34m\u001b[0m\n\u001b[1;32m      4\u001b[0m \u001b[0;34m\u001b[0m\u001b[0m\n\u001b[1;32m      5\u001b[0m     \u001b[0;32mreturn\u001b[0m \u001b[0;34m(\u001b[0m\u001b[0mnp\u001b[0m\u001b[0;34m.\u001b[0m\u001b[0mabs\u001b[0m\u001b[0;34m(\u001b[0m\u001b[0mx\u001b[0m\u001b[0;34m)\u001b[0m \u001b[0;34m>\u001b[0m \u001b[0ma\u001b[0m\u001b[0;34m)\u001b[0m \u001b[0;34m*\u001b[0m \u001b[0mV0\u001b[0m\u001b[0;34m\u001b[0m\u001b[0;34m\u001b[0m\u001b[0m\n\u001b[0;32m----> 6\u001b[0;31m \u001b[0mV\u001b[0m\u001b[0;34m(\u001b[0m\u001b[0;36m0.6\u001b[0m\u001b[0;34m,\u001b[0m\u001b[0ma\u001b[0m\u001b[0;34m=\u001b[0m\u001b[0;36m100\u001b[0m\u001b[0;34m)\u001b[0m\u001b[0;34m\u001b[0m\u001b[0;34m\u001b[0m\u001b[0m\n\u001b[0m",
      "\u001b[0;32m<ipython-input-66-fe86149b1338>\u001b[0m in \u001b[0;36mV\u001b[0;34m(x, V0, a)\u001b[0m\n\u001b[1;32m      1\u001b[0m \u001b[0;32mdef\u001b[0m \u001b[0mV\u001b[0m\u001b[0;34m(\u001b[0m\u001b[0mx\u001b[0m\u001b[0;34m,\u001b[0m\u001b[0mV0\u001b[0m\u001b[0;34m=\u001b[0m\u001b[0;36m1.\u001b[0m\u001b[0;34m,\u001b[0m\u001b[0ma\u001b[0m\u001b[0;34m=\u001b[0m\u001b[0mR\u001b[0m\u001b[0;34m/\u001b[0m\u001b[0;36m2\u001b[0m\u001b[0;34m)\u001b[0m\u001b[0;34m:\u001b[0m\u001b[0;34m\u001b[0m\u001b[0;34m\u001b[0m\u001b[0m\n\u001b[1;32m      2\u001b[0m     \u001b[0;32mif\u001b[0m \u001b[0;34m(\u001b[0m\u001b[0ma\u001b[0m \u001b[0;34m<\u001b[0m \u001b[0;36m0\u001b[0m\u001b[0;34m)\u001b[0m \u001b[0;32mor\u001b[0m \u001b[0;34m(\u001b[0m\u001b[0ma\u001b[0m \u001b[0;34m>\u001b[0m \u001b[0mR\u001b[0m\u001b[0;34m)\u001b[0m \u001b[0;32mor\u001b[0m \u001b[0;34m(\u001b[0m\u001b[0mV0\u001b[0m \u001b[0;34m<\u001b[0m \u001b[0;36m0\u001b[0m\u001b[0;34m)\u001b[0m\u001b[0;34m:\u001b[0m\u001b[0;34m\u001b[0m\u001b[0;34m\u001b[0m\u001b[0m\n\u001b[0;32m----> 3\u001b[0;31m         \u001b[0;32mraise\u001b[0m \u001b[0mValueError\u001b[0m\u001b[0;34m\u001b[0m\u001b[0;34m\u001b[0m\u001b[0m\n\u001b[0m\u001b[1;32m      4\u001b[0m \u001b[0;34m\u001b[0m\u001b[0m\n\u001b[1;32m      5\u001b[0m     \u001b[0;32mreturn\u001b[0m \u001b[0;34m(\u001b[0m\u001b[0mnp\u001b[0m\u001b[0;34m.\u001b[0m\u001b[0mabs\u001b[0m\u001b[0;34m(\u001b[0m\u001b[0mx\u001b[0m\u001b[0;34m)\u001b[0m \u001b[0;34m>\u001b[0m \u001b[0ma\u001b[0m\u001b[0;34m)\u001b[0m \u001b[0;34m*\u001b[0m \u001b[0mV0\u001b[0m\u001b[0;34m\u001b[0m\u001b[0;34m\u001b[0m\u001b[0m\n",
      "\u001b[0;31mValueError\u001b[0m: "
     ]
    }
   ],
   "source": [
    "def V(x,V0=1.,a=R/2):\n",
    "    if (a < 0) or (a > R) or (V0 < 0):\n",
    "        raise ValueError\n",
    "        \n",
    "    return (np.abs(x) > a) * V0\n",
    "V(0.6,a=100)"
   ]
  },
  {
   "cell_type": "markdown",
   "metadata": {},
   "source": [
    "#### 2."
   ]
  },
  {
   "cell_type": "code",
   "execution_count": 95,
   "metadata": {},
   "outputs": [],
   "source": [
    "def Puissance_inv(A,u_ini,espilon):\n",
    "    n_iter = 0\n",
    "    u_ini = u_ini/npl.norm(u_ini)\n",
    "    P,L,U = spl.lu(A)\n",
    "    l = espilon\n",
    "    ltmp = 0\n",
    "    while abs(l-ltmp)>epsilon*abs(l):\n",
    "        n_iter += 1\n",
    "        ltmp = l\n",
    "        if n_iter>2*np.shape(A)[0]:\n",
    "            break\n",
    "        y = spl.solve_triangular(L,u_ini,lower = 1)\n",
    "        z = spl.solve_triangular(U,y)\n",
    "        l = np.dot(x,z)\n",
    "        x = z/npl.norm(z)\n",
    "    return 1./l,u_ini,n_iter"
   ]
  },
  {
   "cell_type": "markdown",
   "metadata": {},
   "source": [
    "Pour calculer $d$ valeurs propres d'une même matrice symétrique, on peut à l'itération $k$ on effectuer l'algorithme de la puissance inverse sur $d$ vecteurs en même temps : $(x_1^k,x_2^k,..x_d^k)$. On calcule donc les vecteurs $$y_i^k=A x_i^k \\text{ pour } i=1..d.$$ De plus, comme on sait qu'au final les vecteurs propres de $A$ sont orthogonaux, on orthonormalise les vecteurs $(y_1^k,y_2^k,..y_d^k)$ par un procédé  de Gram-Schmidt et on prend cette base orthonormalisée comme valeur de $(x_1^{k+1},x_2^{k+1},..x_d^{k+1})$."
   ]
  },
  {
   "cell_type": "code",
   "execution_count": 79,
   "metadata": {},
   "outputs": [],
   "source": [
    "def GramSchmidt(Y) :\n",
    "    [n,p]=Y.shape\n",
    "    for i in np.arange(p) :\n",
    "        for j in np.arange(i) :\n",
    "            Y[:,i]-=np.dot(Y[:,i],Y[:,j])*Y[:,j]\n",
    "        Y[:,i]/=np.linalg.norm(Y[:,i])"
   ]
  },
  {
   "cell_type": "code",
   "execution_count": 102,
   "metadata": {},
   "outputs": [],
   "source": [
    "def Laplacian(n) :\n",
    "    return (n+1)**2*sp.sparse.diags([2*np.ones(n),-1*np.ones(n-1),-1*np.ones(n-1)], [0, -1, 1]).tocsc()\n",
    "\n",
    "\n",
    "#on passe en entrée notre matrice\n",
    "#le vecteur (ou matrice) u_ini qui va nous permettre d'approcher p vp\n",
    "#espilon la tolérance accordée à l'algorithme\n",
    "def Puissance_inv2(A,u,espilon):\n",
    "    n_iter = 0\n",
    "    GramSchmidt(u)\n",
    "    p = np.shape(u)[1]\n",
    "    l = espilon*np.ones((p,1))\n",
    "    ltmp = np.zeros((p,1))\n",
    "    while npl.norm(l-ltmp,np.inf)>espilon*npl.norm(ltmp,np.inf):\n",
    "        n_iter += 1\n",
    "        ltmp = l\n",
    "        if n_iter>2*np.shape(A)[0]:\n",
    "            break\n",
    "        u = sspl.spsolve(A,u)\n",
    "        GramSchmidt(u)\n",
    "        B = u.T.dot(A.dot(u))\n",
    "        l = np.diag(B)\n",
    "    return l,u,n_iter"
   ]
  },
  {
   "cell_type": "code",
   "execution_count": 120,
   "metadata": {},
   "outputs": [
    {
     "name": "stdout",
     "output_type": "stream",
     "text": [
      "Erreur entre les valeurs propres calculées et les valeurs propres exactes:\n",
      "[1.77635684e-15 3.63958542e-06]\n"
     ]
    }
   ],
   "source": [
    "n = 10\n",
    "p = 2\n",
    "X = np.random.rand(n,p)\n",
    "l,X,niter=Puissance_inv2(Laplacian(n),X,1e-6)\n",
    "lexact = 4*((n+1)*np.sin(np.arange(1,n+1)*np.pi/(2*(n+1))))**2\n",
    "print(\"Erreur entre les valeurs propres calculées et les valeurs propres exactes:\")\n",
    "print(l - lexact[0:p])"
   ]
  },
  {
   "cell_type": "markdown",
   "metadata": {},
   "source": [
    "TODO tracer la nos vp en fonction de h"
   ]
  },
  {
   "cell_type": "markdown",
   "metadata": {},
   "source": [
    "#### 3."
   ]
  },
  {
   "cell_type": "markdown",
   "metadata": {},
   "source": [
    "TODO\n",
    "Représenter sur le même graphique les fonctions propres de l’opérateur Laplacien et de l’opérateur de Schrödinger. Qu’observez-vous ?"
   ]
  }
 ],
 "metadata": {
  "kernelspec": {
   "display_name": "Python 3",
   "language": "python",
   "name": "python3"
  },
  "language_info": {
   "codemirror_mode": {
    "name": "ipython",
    "version": 3
   },
   "file_extension": ".py",
   "mimetype": "text/x-python",
   "name": "python",
   "nbconvert_exporter": "python",
   "pygments_lexer": "ipython3",
   "version": "3.7.4"
  }
 },
 "nbformat": 4,
 "nbformat_minor": 2
}
