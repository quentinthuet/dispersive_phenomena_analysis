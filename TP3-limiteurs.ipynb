{
 "cells": [
  {
   "cell_type": "code",
   "execution_count": 1,
   "metadata": {},
   "outputs": [],
   "source": [
    "import numpy as np\n",
    "import matplotlib.pyplot as plt\n",
    "from math import *\n",
    "from matplotlib.animation import FuncAnimation"
   ]
  },
  {
   "cell_type": "code",
   "execution_count": 2,
   "metadata": {},
   "outputs": [],
   "source": [
    "import sympy"
   ]
  },
  {
   "cell_type": "code",
   "execution_count": 3,
   "metadata": {},
   "outputs": [],
   "source": [
    "L=1\n",
    "m=100"
   ]
  },
  {
   "cell_type": "code",
   "execution_count": 4,
   "metadata": {},
   "outputs": [],
   "source": [
    "# INITIALIZATIONS\n",
    "x = np.zeros(m)\n",
    "u = np.zeros(m)\n",
    "u_ini = np.zeros(m)\n",
    "\n",
    "x = np.linspace(0,L,m)"
   ]
  },
  {
   "cell_type": "code",
   "execution_count": 5,
   "metadata": {},
   "outputs": [],
   "source": [
    "for k in range(len(u_ini)):\n",
    "        if x[k]>np.median(x):\n",
    "            u_ini[k]=1"
   ]
  },
  {
   "cell_type": "code",
   "execution_count": 7,
   "metadata": {},
   "outputs": [
    {
     "data": {
      "image/png": "[encoded data removed]",
      "text/plain": [
       "<Figure size 864x576 with 1 Axes>"
      ]
     },
     "metadata": {
      "needs_background": "light"
     },
     "output_type": "display_data"
    }
   ],
   "source": [
    "# POST-PROCESSING\n",
    "plt.figure(figsize=(12,8))\n",
    "plt.title('Condition initiale', fontsize=12)\n",
    "plt.xlim(0,L)\n",
    "plt.plot(x, u_ini,label='ini')    \n",
    "#plt.plot(x, u[:],label='sol')\n",
    "plt.grid()\n",
    "plt.legend()\n",
    "#plt.savefig('myfig.png', dpi=fig.dpi)\n",
    "plt.show()"
   ]
  },
  {
   "cell_type": "code",
   "execution_count": 11,
   "metadata": {},
   "outputs": [],
   "source": [
    "def Min_mod(r):\n",
    "    retour = 0\n",
    "    if r > 0:\n",
    "        retour = min(r,1)\n",
    "    return retour\n",
    "\n",
    "def Superbee(r):\n",
    "    return max(max(min(2*r,1),min(r,2)),0)\n",
    "\n",
    "def Van_Leer(r):\n",
    "    return (r + abs(r))/(1+r)\n",
    "\n",
    "def Van_Albada(r):\n",
    "    return (r**2 + r)/(1+r**2)"
   ]
  },
  {
   "cell_type": "code",
   "execution_count": 14,
   "metadata": {},
   "outputs": [],
   "source": [
    "def BW(u,CFL,lim):\n",
    "    u_shift_minus = np.concatenate((u[-1],u[:-1]),axis=None)\n",
    "    u_2shift_minus = np.concatenate((u_shift_minus[-1],u_shift_minus[:-1]),axis=None)\n",
    "    u_shift_plus = np.concatenate((u[1:],u[0]),axis=None)\n",
    "    r = (u_shift_plus - u / u - u_shift_minus)**-1\n",
    "    r_shift_minus = (u - u_shift_minus / u_shift_minus - u_2shift_minus)**-1\n",
    "    \n",
    "        \n",
    "    u = u - CFL*(u-u_shift_minus) - CFL/2*(1-CFL)*lim(r)*(u_shift_plus-u)+CFL/2*(1-CFl)*lim(r_shift_minus)*(u-u_shift_minus)\n",
    "    return u"
   ]
  },
  {
   "cell_type": "code",
   "execution_count": 15,
   "metadata": {},
   "outputs": [],
   "source": [
    "def LW(u,CFL,lim):\n",
    "    u_shift_minus = np.concatenate((u[-1],u[:-1]),axis=None)\n",
    "    u_2shift_minus = np.concatenate((u_shift_minus[-1],u_shift_minus[:-1]),axis=None)\n",
    "    u_shift_plus = np.concatenate((u[1:],u[0]),axis=None)\n",
    "    r = u_shift_plus - u / u - u_shift_minus\n",
    "    r_shift_minus = u - u_shift_minus / u_shift_minus - u_2shift_minus\n",
    "    \n",
    "        \n",
    "    u = u - CFL*(u-u_shift_minus) - CFL/2*(1-CFL)*lim(r)*(u-u_shift_minus)+CFL/2*(1-CFl)*lim(r_shift_minus)*(u_shift_minus-u_2shift_minus)\n",
    "    return u"
   ]
  }
 ],
 "metadata": {
  "kernelspec": {
   "display_name": "Python 3",
   "language": "python",
   "name": "python3"
  },
  "language_info": {
   "codemirror_mode": {
    "name": "ipython",
    "version": 3
   },
   "file_extension": ".py",
   "mimetype": "text/x-python",
   "name": "python",
   "nbconvert_exporter": "python",
   "pygments_lexer": "ipython3",
   "version": "3.7.4"
  }
 },
 "nbformat": 4,
 "nbformat_minor": 2
}
